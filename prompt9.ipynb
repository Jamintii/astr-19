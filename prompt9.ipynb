{
 "cells": [
  {
   "cell_type": "code",
   "execution_count": 1,
   "id": "b390c2a8-f4f2-47f3-9205-2aaf4e0ad89d",
   "metadata": {},
   "outputs": [],
   "source": [
    "import numpy as np\n",
    "import matplotlib.pyplot as plt"
   ]
  },
  {
   "cell_type": "code",
   "execution_count": 10,
   "id": "6de49c64-20fb-41be-a995-edb238bab24a",
   "metadata": {},
   "outputs": [
    {
     "data": {
      "text/plain": [
       "(array([13., 12., 12.,  8., 11.,  9., 11., 12., 15., 12., 13., 14., 13.,\n",
       "         7., 12.,  8.,  8., 14., 12., 17., 15., 13.,  9., 10.,  8.,  1.,\n",
       "         8.,  9., 10., 15.,  6., 11., 13., 10., 15., 11.,  9., 11.,  8.,\n",
       "        14.,  6.,  7.,  9., 12.,  9.,  6., 11.,  6.,  6., 12., 11., 12.,\n",
       "        18., 11., 12., 15., 25.,  9.,  7.,  9., 11., 16., 12., 10., 15.,\n",
       "        13., 10.,  6., 19.,  8., 10., 15.,  7., 12., 15., 14.,  9., 17.,\n",
       "        12.,  9., 16., 11., 11.,  6.,  7.,  9., 13.,  9., 10., 12.]),\n",
       " array([0.   , 0.011, 0.022, 0.033, 0.044, 0.055, 0.066, 0.077, 0.088,\n",
       "        0.099, 0.11 , 0.121, 0.132, 0.143, 0.154, 0.165, 0.176, 0.187,\n",
       "        0.198, 0.209, 0.22 , 0.231, 0.242, 0.253, 0.264, 0.275, 0.286,\n",
       "        0.297, 0.308, 0.319, 0.33 , 0.341, 0.352, 0.363, 0.374, 0.385,\n",
       "        0.396, 0.407, 0.418, 0.429, 0.44 , 0.451, 0.462, 0.473, 0.484,\n",
       "        0.495, 0.506, 0.517, 0.528, 0.539, 0.55 , 0.561, 0.572, 0.583,\n",
       "        0.594, 0.605, 0.616, 0.627, 0.638, 0.649, 0.66 , 0.671, 0.682,\n",
       "        0.693, 0.704, 0.715, 0.726, 0.737, 0.748, 0.759, 0.77 , 0.781,\n",
       "        0.792, 0.803, 0.814, 0.825, 0.836, 0.847, 0.858, 0.869, 0.88 ,\n",
       "        0.891, 0.902, 0.913, 0.924, 0.935, 0.946, 0.957, 0.968, 0.979,\n",
       "        0.99 ]),\n",
       " <BarContainer object of 90 artists>)"
      ]
     },
     "execution_count": 10,
     "metadata": {},
     "output_type": "execute_result"
    },
    {
     "data": {
      "image/png": "[encoded data removed]",
      "text/plain": [
       "<Figure size 640x480 with 1 Axes>"
      ]
     },
     "metadata": {},
     "output_type": "display_data"
    }
   ],
   "source": [
    "n = 1000\n",
    "x = np.random.uniform(0,1,size=n)\n",
    "\n",
    "width = 0.5\n",
    "histmin = np.floor(min(x)) #0\n",
    "histmax = np.ceil(max(x))  #1\n",
    "\n",
    "bins = np.arange(0, 1, 0.011)\n",
    "plt.hist(x, bins=bins, alpha = 0.5)\n"
   ]
  },
  {
   "cell_type": "code",
   "execution_count": 6,
   "id": "80c7d6a9-271b-4f2f-be81-724982f41739",
   "metadata": {},
   "outputs": [
    {
     "data": {
      "text/plain": [
       "array([0.50345824, 0.16796338, 0.75649426, 0.10111773, 0.20311047,\n",
       "       0.09338313, 0.8005699 , 0.62391036, 0.36769199, 0.4894008 ,\n",
       "       0.85112478, 0.11109306, 0.10657298, 0.49489037, 0.58325765,\n",
       "       0.76291054, 0.7439232 , 0.17491996, 0.59516672, 0.64189268])"
      ]
     },
     "execution_count": 6,
     "metadata": {},
     "output_type": "execute_result"
    }
   ],
   "source": [
    "x[:20]"
   ]
  },
  {
   "cell_type": "code",
   "execution_count": null,
   "id": "c8f050b2-71eb-43e3-b935-39908e07ab5f",
   "metadata": {},
   "outputs": [],
   "source": []
  }
 ],
 "metadata": {
  "kernelspec": {
   "display_name": "Python 3 (ipykernel)",
   "language": "python",
   "name": "python3"
  },
  "language_info": {
   "codemirror_mode": {
    "name": "ipython",
    "version": 3
   },
   "file_extension": ".py",
   "mimetype": "text/x-python",
   "name": "python",
   "nbconvert_exporter": "python",
   "pygments_lexer": "ipython3",
   "version": "3.11.5"
  }
 },
 "nbformat": 4,
 "nbformat_minor": 5
}

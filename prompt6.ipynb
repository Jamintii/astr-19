{
 "cells": [
  {
   "cell_type": "code",
   "execution_count": 2,
   "id": "0086826d-787b-4418-b416-d30e3bfdeea9",
   "metadata": {},
   "outputs": [],
   "source": [
    "import numpy as np\n",
    "\n",
    "def cossy(x):\n",
    "    return np.cos(x)\n",
    "\n",
    "def sinny(x):\n",
    "    return np.sin(x)"
   ]
  },
  {
   "cell_type": "code",
   "execution_count": 3,
   "id": "1cc1769b-d7dd-468b-82da-2299f608e0df",
   "metadata": {},
   "outputs": [],
   "source": [
    "#calculation of cos(x) and sin(x)"
   ]
  },
  {
   "cell_type": "code",
   "execution_count": 4,
   "id": "e4be6a3f-0067-4155-a480-a71a0503de1f",
   "metadata": {},
   "outputs": [],
   "source": [
    "#define range of x\n",
    "\n",
    "valuex = np.linspace(0, 2*np.pi, 1000)\n",
    "\n",
    "#cos and sin values\n",
    "\n",
    "valuecos = cossy(valuex)\n",
    "valuesin = sinny(valuex)"
   ]
  },
  {
   "cell_type": "code",
   "execution_count": 9,
   "id": "e6927cc4-b300-4bfe-ae59-a0c96992e88d",
   "metadata": {},
   "outputs": [
    {
     "name": "stdout",
     "output_type": "stream",
     "text": [
      "x values:   cos(x)   sin(x)\n",
      "0.0   1.0   0.0\n",
      "0.006289474781961547   0.9999802213186832   0.006289433316067751\n",
      "0.012578949563923095   0.9999208860571255   0.012578617838741058\n",
      "0.018868424345884642   0.9998219965624732   0.01886730478446709\n",
      "0.02515789912784619   0.9996835567465339   0.025155245389375847\n",
      "0.03144737390980774   0.9995055720856215   0.0314421909191206\n",
      "0.037736848691769284   0.99928804962034   0.03772789267871718\n",
      "0.04402632347373083   0.9990309979553044   0.04401210202238166\n",
      "0.05031579825569238   0.9987344272588006   0.05029457036336618\n",
      "0.056605273037653926   0.9983983492623831   0.056575049183792345\n"
     ]
    }
   ],
   "source": [
    "print(\"x values:\", \" \", \"cos(x)\", \" \",\"sin(x)\")\n",
    "for i in range(10):\n",
    "    print(valuex[i], \" \", valuecos[i], \" \", valuesin[i])"
   ]
  },
  {
   "cell_type": "code",
   "execution_count": null,
   "id": "f3c67780-5e63-47b4-a64c-b203a9050e17",
   "metadata": {},
   "outputs": [],
   "source": []
  }
 ],
 "metadata": {
  "kernelspec": {
   "display_name": "Python 3 (ipykernel)",
   "language": "python",
   "name": "python3"
  },
  "language_info": {
   "codemirror_mode": {
    "name": "ipython",
    "version": 3
   },
   "file_extension": ".py",
   "mimetype": "text/x-python",
   "name": "python",
   "nbconvert_exporter": "python",
   "pygments_lexer": "ipython3",
   "version": "3.11.5"
  }
 },
 "nbformat": 4,
 "nbformat_minor": 5
}
